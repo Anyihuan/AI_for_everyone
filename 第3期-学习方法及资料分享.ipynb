{
 "cells": [
  {
   "cell_type": "markdown",
   "metadata": {},
   "source": [
    "## 目录\n",
    "- 误区\n",
    "- 学习目标\n",
    "- 学习资料"
   ]
  },
  {
   "cell_type": "markdown",
   "metadata": {},
   "source": [
    "## 0.误区\n",
    "### Q0:想要体验机器学习，需要先看很多资料吗？\n",
    "A0:不一定。只需要了解简单的背景知识就可以先动手体验。\n",
    "\n",
    "### Q1:想要找算法岗的工作，一定要发过几篇论文才可以吗？\n",
    "A1:算法的工作分不同的类型。理论研究型肯定是要求学历和论文的，但是也有应用型岗位更看中实践经验的。\n",
    "\n",
    "### Q2:算法岗是不是特别看中学校/学历/比赛得奖/....？\n",
    "A2:两条原则。1.有一定比没有好：别问xx东西有没有用，会总比不会好 2.匹配原则：当有A和B两个相比的话，就要看岗位匹配度了。比如科研岗位更看重理论，业务岗更看重应用"
   ]
  },
  {
   "cell_type": "markdown",
   "metadata": {},
   "source": [
    "## 1.学习目标"
   ]
  },
  {
   "cell_type": "markdown",
   "metadata": {},
   "source": [
    "![jupyter](./ML_roadmap.png)\n"
   ]
  },
  {
   "cell_type": "markdown",
   "metadata": {},
   "source": [
    " | 研究型 |  应用型 \n",
    "-|-|-\n",
    "linux（使用服务器/装包） | 🌟🌟🌟 | 🌟🌟🌟🌟 |\n",
    "数据处理/SQL | 🌟🌟 | 🌟🌟🌟🌟 |\n",
    "算法理论 | 🌟🌟🌟🌟🌟 | 🌟🌟🌟\n",
    "编码功力（leetcode） |🌟🌟🌟|🌟🌟🌟\n",
    "编码功力（设计模式) |🌟| 🌟🌟🌟\n",
    "业务理解 | 🌟🌟| 🌟🌟🌟🌟🌟\n",
    "计算机基本原理（操作系统/网络）|🌟🌟|🌟🌟🌟"
   ]
  },
  {
   "cell_type": "markdown",
   "metadata": {},
   "source": [
    "## 2.资料\n",
    "见markdown文档"
   ]
  },
  {
   "cell_type": "code",
   "execution_count": null,
   "metadata": {},
   "outputs": [],
   "source": []
  }
 ],
 "metadata": {
  "kernelspec": {
   "display_name": "Python 3",
   "language": "python",
   "name": "python3"
  },
  "language_info": {
   "codemirror_mode": {
    "name": "ipython",
    "version": 3
   },
   "file_extension": ".py",
   "mimetype": "text/x-python",
   "name": "python",
   "nbconvert_exporter": "python",
   "pygments_lexer": "ipython3",
   "version": "3.6.4"
  }
 },
 "nbformat": 4,
 "nbformat_minor": 2
}
